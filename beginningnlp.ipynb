{
 "cells": [
  {
   "cell_type": "code",
   "execution_count": 76,
   "id": "776171c0-f317-4ea5-8b8d-e4b1baf5e023",
   "metadata": {},
   "outputs": [],
   "source": [
    "# Import and set up db\n",
    "import sqlalchemy as db\n",
    "engine = db.create_engine('sqlite:///app.db')\n",
    "connection = engine.connect()\n",
    "metadata = db.MetaData()"
   ]
  },
  {
   "cell_type": "code",
   "execution_count": 77,
   "id": "b402132d-4293-4c1a-a107-ba0ec595178f",
   "metadata": {},
   "outputs": [],
   "source": [
    "# Card table\n",
    "card = db.Table('Card', metadata, autoload_with=engine)\n",
    "# Commander Collection table\n",
    "cc = db.Table('Commander_collection', metadata, autoload_with=engine)"
   ]
  },
  {
   "cell_type": "code",
   "execution_count": 78,
   "id": "afb55885-20a2-4879-8cb2-615fa257f9e2",
   "metadata": {},
   "outputs": [
    {
     "data": {
      "text/plain": [
       "['id',\n",
       " 'card_name',\n",
       " 'search_name',\n",
       " 'oracle_text',\n",
       " 'type_line',\n",
       " 'power',\n",
       " 'toughness',\n",
       " 'mana_cost',\n",
       " 'cmc',\n",
       " 'color_identity',\n",
       " 'card_img',\n",
       " 'double_sided_pointer']"
      ]
     },
     "execution_count": 78,
     "metadata": {},
     "output_type": "execute_result"
    }
   ],
   "source": [
    "card.columns.keys()"
   ]
  },
  {
   "cell_type": "code",
   "execution_count": 79,
   "id": "bb7c7ba2-e523-4274-875f-026eceadb993",
   "metadata": {},
   "outputs": [
    {
     "data": {
      "text/plain": [
       "['id', 'commander_id', 'card_id']"
      ]
     },
     "execution_count": 79,
     "metadata": {},
     "output_type": "execute_result"
    }
   ],
   "source": [
    "cc.columns.keys()"
   ]
  },
  {
   "cell_type": "code",
   "execution_count": 179,
   "id": "0af367c0-9bdf-422d-a6a2-471c876cd019",
   "metadata": {},
   "outputs": [],
   "source": [
    "query = db.select(card.c.get('oracle_text')).select_from(card).join(cc, card.c.id == cc.c.card_id).where(cc.c.commander_id == 1)"
   ]
  },
  {
   "cell_type": "code",
   "execution_count": 180,
   "id": "4d318eda-4741-4e41-8ddd-97c775e31c33",
   "metadata": {},
   "outputs": [],
   "source": [
    "# This is now a list of oricle text... Kinda. The format is messy.\n",
    "ugly_ob_list = connection.execute(query).scalars().all()"
   ]
  },
  {
   "cell_type": "code",
   "execution_count": 181,
   "id": "c83c1620-cd41-40a4-9843-ae8a53a9154f",
   "metadata": {},
   "outputs": [],
   "source": [
    "import re\n",
    "import spacy"
   ]
  },
  {
   "cell_type": "code",
   "execution_count": 182,
   "id": "3ddd7f8a-e960-4c67-b984-1e10292ce3bb",
   "metadata": {},
   "outputs": [],
   "source": [
    "# Get rid of computer formatting stuff.\n",
    "cleaned_suggestions = []\n",
    "for card_inst in ugly_ob_list:\n",
    "    cleaned_suggestions.append(card_inst.replace('\\n',' ').strip())\n",
    "ob_body = ' '.join(cleaned_suggestions)"
   ]
  },
  {
   "cell_type": "code",
   "execution_count": 183,
   "id": "75d94dde-4672-4fa2-b58d-3125e066b568",
   "metadata": {},
   "outputs": [],
   "source": [
    "# Get rid of stop words\n",
    "ob_body = re.sub(r' on | the | of | to | and | with | in ',' ',ob_body)"
   ]
  },
  {
   "cell_type": "code",
   "execution_count": 184,
   "id": "ebd2b419-3db6-46e8-8437-31e0640d47b5",
   "metadata": {},
   "outputs": [],
   "source": [
    "# print(ob_body)"
   ]
  },
  {
   "cell_type": "code",
   "execution_count": 185,
   "id": "d5e923f9-bca8-474a-b6e7-bf284091a94c",
   "metadata": {},
   "outputs": [],
   "source": [
    "npl = spacy.load(\"en_core_web_sm\")"
   ]
  },
  {
   "cell_type": "code",
   "execution_count": 186,
   "id": "31ba6420-2037-48df-926f-089e7b1e8c78",
   "metadata": {},
   "outputs": [],
   "source": [
    "doc = npl(ob_body)"
   ]
  },
  {
   "cell_type": "code",
   "execution_count": 187,
   "id": "6f2edc8e-7bd8-47ca-a063-6942cb75725a",
   "metadata": {
    "tags": []
   },
   "outputs": [],
   "source": [
    "lemmas = []\n",
    "for token in doc:\n",
    "    if not token.is_punct:\n",
    "        lemmas.append(token.lemma_)"
   ]
  },
  {
   "cell_type": "code",
   "execution_count": 188,
   "id": "c375e669-2ad8-47b7-ae63-73c727e1ff4f",
   "metadata": {},
   "outputs": [],
   "source": [
    "lemetized_ob = ' '.join(lemmas)"
   ]
  },
  {
   "cell_type": "code",
   "execution_count": 189,
   "id": "c5aefb93-b935-45b1-8c9d-0692d86b888f",
   "metadata": {},
   "outputs": [],
   "source": [
    "# print(lemetized_ob)"
   ]
  },
  {
   "cell_type": "code",
   "execution_count": 190,
   "id": "a2af368e-c24f-4ab7-a592-d20e709ff00f",
   "metadata": {},
   "outputs": [],
   "source": [
    "from sklearn.feature_extraction.text import CountVectorizer"
   ]
  },
  {
   "cell_type": "code",
   "execution_count": 191,
   "id": "84ea2d25-2f3d-44c2-a33a-a6e135e6820f",
   "metadata": {},
   "outputs": [],
   "source": [
    "v = CountVectorizer(ngram_range=(2,3), token_pattern=r'(?u)\\b[\\d\\w]+\\b')\n",
    "v.fit([lemetized_ob])\n",
    "vocab = v.vocabulary_"
   ]
  },
  {
   "cell_type": "code",
   "execution_count": 192,
   "id": "80c2b2e5-5007-481d-86b1-43c7a30bf0af",
   "metadata": {},
   "outputs": [],
   "source": [
    "# print(vocab)"
   ]
  },
  {
   "cell_type": "code",
   "execution_count": 197,
   "id": "feed9f45-f064-4c4d-baed-04de7235d999",
   "metadata": {},
   "outputs": [
    {
     "name": "stdout",
     "output_type": "stream",
     "text": [
      "you may:  68\n",
      "deal 1:  77\n",
      "1 damage:  78\n",
      "t add:  76\n",
      "1 life:  51\n",
      "r t:  50\n",
      "a card:  51\n",
      "enter battlefield:  61\n",
      "you control:  52\n",
      "your library:  52\n",
      "whenever a:  41\n",
      "r you:  47\n",
      "battlefield t:  44\n",
      "or a:  43\n",
      "card t:  41\n",
      "deal 1 damage:  76\n"
     ]
    }
   ],
   "source": [
    "for phrase in vocab:\n",
    "    count = lemetized_ob.count(phrase)\n",
    "    if count > 40 and count < 100:\n",
    "        print(phrase+': ', count)"
   ]
  },
  {
   "cell_type": "code",
   "execution_count": null,
   "id": "81d29af4-2e96-4c46-ac9b-d61264e98161",
   "metadata": {},
   "outputs": [],
   "source": []
  }
 ],
 "metadata": {
  "kernelspec": {
   "display_name": "Python 3 (ipykernel)",
   "language": "python",
   "name": "python3"
  },
  "language_info": {
   "codemirror_mode": {
    "name": "ipython",
    "version": 3
   },
   "file_extension": ".py",
   "mimetype": "text/x-python",
   "name": "python",
   "nbconvert_exporter": "python",
   "pygments_lexer": "ipython3",
   "version": "3.8.13"
  }
 },
 "nbformat": 4,
 "nbformat_minor": 5
}
